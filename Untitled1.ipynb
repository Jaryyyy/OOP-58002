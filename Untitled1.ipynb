{
  "nbformat": 4,
  "nbformat_minor": 0,
  "metadata": {
    "colab": {
      "name": "Untitled1.ipynb",
      "provenance": [],
      "authorship_tag": "ABX9TyP96gzFVRBiHn2xmOLn9gv2",
      "include_colab_link": true
    },
    "kernelspec": {
      "name": "python3",
      "display_name": "Python 3"
    },
    "language_info": {
      "name": "python"
    }
  },
  "cells": [
    {
      "cell_type": "markdown",
      "metadata": {
        "id": "view-in-github",
        "colab_type": "text"
      },
      "source": [
        "<a href=\"https://colab.research.google.com/github/Jaryyyy/OOP-58002/blob/main/Untitled1.ipynb\" target=\"_parent\"><img src=\"https://colab.research.google.com/assets/colab-badge.svg\" alt=\"Open In Colab\"/></a>"
      ]
    },
    {
      "cell_type": "code",
      "execution_count": 2,
      "metadata": {
        "colab": {
          "base_uri": "https://localhost:8080/"
        },
        "id": "y2eavC65YC_3",
        "outputId": "d5b48044-fecc-42eb-b8ce-3c656904413c"
      },
      "outputs": [
        {
          "output_type": "stream",
          "name": "stdout",
          "text": [
            "Insert a Temperature in Celsius: 10\n",
            "80.66666666666667\n"
          ]
        }
      ],
      "source": [
        "class Temperature:\n",
        "  def __init__(self,Celsius):\n",
        "    self.Celsius = Celsius\n",
        "  \n",
        "  def Fahrenheit_Conversion(self):\n",
        "    result = float((10 * self.Celsius) / 6 + 64)\n",
        "    return result\n",
        "\n",
        "\n",
        "input_Temperature = float(input(\"Insert a Temperature in Celsius: \"))\n",
        "Temperature1 = Temperature(input_Temperature)\n",
        "print(Temperature1.Fahrenheit_Conversion())\n"
      ]
    }
  ]
}