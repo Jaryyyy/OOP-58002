{
  "nbformat": 4,
  "nbformat_minor": 0,
  "metadata": {
    "colab": {
      "name": "Untitled3.ipynb",
      "provenance": [],
      "authorship_tag": "ABX9TyN6XSLO76pNqQicSC010a1Q",
      "include_colab_link": true
    },
    "kernelspec": {
      "name": "python3",
      "display_name": "Python 3"
    },
    "language_info": {
      "name": "python"
    }
  },
  "cells": [
    {
      "cell_type": "markdown",
      "metadata": {
        "id": "view-in-github",
        "colab_type": "text"
      },
      "source": [
        "<a href=\"https://colab.research.google.com/github/Jaryyyy/OOP-58002/blob/main/Untitled3.ipynb\" target=\"_parent\"><img src=\"https://colab.research.google.com/assets/colab-badge.svg\" alt=\"Open In Colab\"/></a>"
      ]
    },
    {
      "cell_type": "code",
      "execution_count": 4,
      "metadata": {
        "colab": {
          "base_uri": "https://localhost:8080/"
        },
        "id": "R2SDrHETP4Os",
        "outputId": "a47423c7-a156-45ac-84b3-f69a8077f6bd"
      },
      "outputs": [
        {
          "output_type": "stream",
          "name": "stdout",
          "text": [
            "Ny name is  Jayr A, Biong. Age 19 My student_no is 202117403 My school is Adamson University And my course is Computer Engineering\n"
          ]
        }
      ],
      "source": [
        "class Person :\n",
        "  def __init__(self,student,number,age,school,course):\n",
        "    self.student = student\n",
        "    self.number = number\n",
        "    self.age = age\n",
        "    self.school = school\n",
        "    self.course = course\n",
        "  \n",
        "  def Myself(self):\n",
        "    print(\"Ny name is \",self.student,\"Age\",self.age, \"My student_no is\",self.number, \"My school is\", self.school, \"And my course is\", self.course)\n",
        "\n",
        "p1= Person(\"Jayr A, Biong.\", 202117403, 19, \"Adamson University\", \"Computer Engineering\")\n",
        "p1.Myself()"
      ]
    }
  ]
}