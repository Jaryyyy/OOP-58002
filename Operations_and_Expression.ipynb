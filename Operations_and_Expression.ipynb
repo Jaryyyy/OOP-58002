{
  "nbformat": 4,
  "nbformat_minor": 0,
  "metadata": {
    "colab": {
      "name": "Operations and Expression",
      "provenance": [],
      "include_colab_link": true
    },
    "kernelspec": {
      "name": "python3",
      "display_name": "Python 3"
    },
    "language_info": {
      "name": "python"
    }
  },
  "cells": [
    {
      "cell_type": "markdown",
      "metadata": {
        "id": "view-in-github",
        "colab_type": "text"
      },
      "source": [
        "<a href=\"https://colab.research.google.com/github/Jaryyyy/OOP-58002/blob/main/Operations_and_Expression.ipynb\" target=\"_parent\"><img src=\"https://colab.research.google.com/assets/colab-badge.svg\" alt=\"Open In Colab\"/></a>"
      ]
    },
    {
      "cell_type": "markdown",
      "source": [
        "Boolean Operators"
      ],
      "metadata": {
        "id": "luRqVanzD-PJ"
      }
    },
    {
      "cell_type": "code",
      "source": [
        "print(9>7)\n",
        "print(9<8)"
      ],
      "metadata": {
        "colab": {
          "base_uri": "https://localhost:8080/"
        },
        "id": "h5NFoHMJEA0n",
        "outputId": "869fe571-ba67-495d-cde1-ec12151159b2"
      },
      "execution_count": 1,
      "outputs": [
        {
          "output_type": "stream",
          "name": "stdout",
          "text": [
            "True\n",
            "False\n"
          ]
        }
      ]
    },
    {
      "cell_type": "code",
      "source": [
        "a = 8\n",
        "b = 9\n",
        "\n",
        "print(8>9)\n",
        "print(9<8)\n",
        "print(a>b)"
      ],
      "metadata": {
        "colab": {
          "base_uri": "https://localhost:8080/"
        },
        "id": "vA4QhSknLzWe",
        "outputId": "0b48c0f4-78d4-42a8-e389-be0d83d5ecbe"
      },
      "execution_count": 3,
      "outputs": [
        {
          "output_type": "stream",
          "name": "stdout",
          "text": [
            "False\n",
            "False\n",
            "False\n"
          ]
        }
      ]
    },
    {
      "cell_type": "markdown",
      "source": [
        "bool() function"
      ],
      "metadata": {
        "id": "I3wZd2eFExIt"
      }
    },
    {
      "cell_type": "code",
      "source": [
        "print(bool(\"Jayr\"))\n",
        "print(bool(2))\n",
        "print(bool(3))\n",
        "print(bool(None))\n",
        "print(bool(False))\n",
        "print(bool(True))"
      ],
      "metadata": {
        "colab": {
          "base_uri": "https://localhost:8080/"
        },
        "id": "2achsFkIE3a5",
        "outputId": "78c54148-b47d-42bd-f8b8-1f2a0eb96464"
      },
      "execution_count": 4,
      "outputs": [
        {
          "output_type": "stream",
          "name": "stdout",
          "text": [
            "True\n",
            "True\n",
            "True\n",
            "False\n",
            "False\n",
            "True\n"
          ]
        }
      ]
    },
    {
      "cell_type": "markdown",
      "source": [
        "Functions can return a Boolean"
      ],
      "metadata": {
        "id": "j2dZuSXgFhqC"
      }
    },
    {
      "cell_type": "code",
      "source": [
        "def my_Function():\n",
        "  return True\n",
        "\n",
        "print(my_Function())"
      ],
      "metadata": {
        "colab": {
          "base_uri": "https://localhost:8080/"
        },
        "id": "6nUOeRCvGJOo",
        "outputId": "28a63568-343c-47be-e9d5-1a9678377256"
      },
      "execution_count": 5,
      "outputs": [
        {
          "output_type": "stream",
          "name": "stdout",
          "text": [
            "True\n"
          ]
        }
      ]
    },
    {
      "cell_type": "code",
      "source": [
        "if my_Function():\n",
        "  print(\"Yes\")\n",
        "else:\n",
        "  print(\"No\")"
      ],
      "metadata": {
        "colab": {
          "base_uri": "https://localhost:8080/"
        },
        "id": "jGpQzlwxGmNM",
        "outputId": "985a778b-52d2-4b65-880a-643f3f8a7a68"
      },
      "execution_count": 6,
      "outputs": [
        {
          "output_type": "stream",
          "name": "stdout",
          "text": [
            "Yes\n"
          ]
        }
      ]
    },
    {
      "cell_type": "markdown",
      "source": [
        "Application 1"
      ],
      "metadata": {
        "id": "8ADClsPRKJkr"
      }
    },
    {
      "cell_type": "code",
      "source": [
        "print(a==b)\n",
        "print(a<b)"
      ],
      "metadata": {
        "colab": {
          "base_uri": "https://localhost:8080/"
        },
        "id": "0PSeclX1KNLz",
        "outputId": "3ed92304-817f-46fd-9544-788b79652a1d"
      },
      "execution_count": 7,
      "outputs": [
        {
          "output_type": "stream",
          "name": "stdout",
          "text": [
            "False\n",
            "True\n"
          ]
        }
      ]
    },
    {
      "cell_type": "markdown",
      "source": [
        "Python Operators"
      ],
      "metadata": {
        "id": "ZE92PQdVMFaO"
      }
    },
    {
      "cell_type": "code",
      "source": [
        "print(10+5)\n",
        "print(10-5)\n",
        "print(10/3)\n",
        "print(10*5)\n",
        "print(10%5)\n",
        "print(10//3)\n",
        "print(10**2)"
      ],
      "metadata": {
        "colab": {
          "base_uri": "https://localhost:8080/"
        },
        "id": "rxxrTQl-MH2N",
        "outputId": "afeb3a06-19f6-42bf-fdf6-c2fac616240b"
      },
      "execution_count": 8,
      "outputs": [
        {
          "output_type": "stream",
          "name": "stdout",
          "text": [
            "15\n",
            "5\n",
            "3.3333333333333335\n",
            "50\n",
            "0\n",
            "3\n",
            "100\n"
          ]
        }
      ]
    },
    {
      "cell_type": "markdown",
      "source": [
        "Bitwise Operators"
      ],
      "metadata": {
        "id": "VeiaUpA3Nn1O"
      }
    },
    {
      "cell_type": "code",
      "source": [
        "c = 60 # binary 0011 1100\n",
        "d = 13 # binary 0000 1101\n",
        "\n",
        "c&d\n",
        "print(a|b)\n",
        "print(c^d)\n",
        "\n",
        "print(d<<2)"
      ],
      "metadata": {
        "colab": {
          "base_uri": "https://localhost:8080/"
        },
        "id": "ZjD3m6E8Nqli",
        "outputId": "4d7bd61f-a51d-49e0-824f-d77e7ae0c59d"
      },
      "execution_count": 9,
      "outputs": [
        {
          "output_type": "stream",
          "name": "stdout",
          "text": [
            "9\n",
            "49\n",
            "52\n"
          ]
        }
      ]
    },
    {
      "cell_type": "markdown",
      "source": [
        "Logical Operators"
      ],
      "metadata": {
        "id": "NGuquTuuPsxw"
      }
    },
    {
      "cell_type": "code",
      "source": [
        "k = True\n",
        "l = False\n",
        "k and l\n",
        "k or l\n",
        "not (k or l)"
      ],
      "metadata": {
        "colab": {
          "base_uri": "https://localhost:8080/"
        },
        "id": "ISvMWJXFPutv",
        "outputId": "b53493bc-fcd3-44d8-a3be-0ccaefcf13d4"
      },
      "execution_count": 12,
      "outputs": [
        {
          "output_type": "execute_result",
          "data": {
            "text/plain": [
              "False"
            ]
          },
          "metadata": {},
          "execution_count": 12
        }
      ]
    },
    {
      "cell_type": "markdown",
      "source": [
        "Application 2"
      ],
      "metadata": {
        "id": "_Rlo285FQUx2"
      }
    },
    {
      "cell_type": "markdown",
      "source": [
        "#Python Assignment Operators"
      ],
      "metadata": {
        "id": "MBGoZtIDSNZ3"
      }
    },
    {
      "cell_type": "code",
      "source": [
        "x= 10\n",
        "\n",
        "print(10+3)\n",
        "print(10-3)\n",
        "print(10/3)\n",
        "print(10*3)\n",
        "print(10%3)"
      ],
      "metadata": {
        "colab": {
          "base_uri": "https://localhost:8080/"
        },
        "id": "w_X1AR4fQXv2",
        "outputId": "f8ddac5a-efca-4d64-bccc-9ef4f4a1c738"
      },
      "execution_count": 13,
      "outputs": [
        {
          "output_type": "stream",
          "name": "stdout",
          "text": [
            "13\n",
            "7\n",
            "3.3333333333333335\n",
            "30\n",
            "1\n"
          ]
        }
      ]
    },
    {
      "cell_type": "markdown",
      "source": [
        "Identity Operators"
      ],
      "metadata": {
        "id": "aHNJlSouS0fu"
      }
    },
    {
      "cell_type": "code",
      "source": [
        "k is l\n",
        "k is not l"
      ],
      "metadata": {
        "colab": {
          "base_uri": "https://localhost:8080/"
        },
        "id": "t6cWlyxnS9YP",
        "outputId": "df2357aa-1523-4251-d7f1-4615883b941f"
      },
      "execution_count": 14,
      "outputs": [
        {
          "output_type": "execute_result",
          "data": {
            "text/plain": [
              "True"
            ]
          },
          "metadata": {},
          "execution_count": 14
        }
      ]
    },
    {
      "cell_type": "markdown",
      "source": [
        "#Control Structure"
      ],
      "metadata": {
        "id": "Smt88mhHTMpl"
      }
    },
    {
      "cell_type": "markdown",
      "source": [
        "If statement"
      ],
      "metadata": {
        "id": "a_5tJM3iTQiU"
      }
    },
    {
      "cell_type": "code",
      "source": [
        "if print(b<c):\n",
        "  print(\"b is greater than c\")"
      ],
      "metadata": {
        "colab": {
          "base_uri": "https://localhost:8080/"
        },
        "id": "N-5mN9ztTTmo",
        "outputId": "5df1bc98-0715-4c7e-c824-e50433dbeda1"
      },
      "execution_count": 15,
      "outputs": [
        {
          "output_type": "stream",
          "name": "stdout",
          "text": [
            "True\n"
          ]
        }
      ]
    },
    {
      "cell_type": "markdown",
      "source": [
        "Short Hand if statement"
      ],
      "metadata": {
        "id": "T_siLKN_VIug"
      }
    },
    {
      "cell_type": "code",
      "source": [
        "if print(c==d): print(\"c is equal to d\")"
      ],
      "metadata": {
        "colab": {
          "base_uri": "https://localhost:8080/"
        },
        "id": "BSjZ9s81VMML",
        "outputId": "d3d2f795-01c4-4bda-bc01-56ce4450ccf0"
      },
      "execution_count": 16,
      "outputs": [
        {
          "output_type": "stream",
          "name": "stdout",
          "text": [
            "False\n"
          ]
        }
      ]
    },
    {
      "cell_type": "markdown",
      "source": [
        "Short Hand If...else satement"
      ],
      "metadata": {
        "id": "v4Xb2951Vwni"
      }
    },
    {
      "cell_type": "code",
      "source": [
        "c = 8\n",
        "d = 7\n",
        "print(\"c is greater than d\")if (a<b) else (\"d is greater than c\")"
      ],
      "metadata": {
        "colab": {
          "base_uri": "https://localhost:8080/"
        },
        "id": "5vdPzU5vV0fo",
        "outputId": "0364f6af-e26c-4c71-8ce8-23c2048884e7"
      },
      "execution_count": 17,
      "outputs": [
        {
          "output_type": "stream",
          "name": "stdout",
          "text": [
            "c is greater than d\n"
          ]
        }
      ]
    },
    {
      "cell_type": "markdown",
      "source": [
        "And"
      ],
      "metadata": {
        "id": "hbHmNs2lW-7I"
      }
    },
    {
      "cell_type": "code",
      "source": [
        "if c and d:\n",
        "  print(\"Yes\")"
      ],
      "metadata": {
        "colab": {
          "base_uri": "https://localhost:8080/"
        },
        "id": "Xi77pbfdW-Xn",
        "outputId": "82041fc4-3be6-40a8-8be5-ad5a3321f5fe"
      },
      "execution_count": 21,
      "outputs": [
        {
          "output_type": "stream",
          "name": "stdout",
          "text": [
            "Yes\n"
          ]
        }
      ]
    },
    {
      "cell_type": "markdown",
      "source": [
        "Or"
      ],
      "metadata": {
        "id": "hL2RqxpqX7O8"
      }
    },
    {
      "cell_type": "code",
      "source": [
        "if c<d or d==d:\n",
        "  print(\"Both condition is True\")"
      ],
      "metadata": {
        "colab": {
          "base_uri": "https://localhost:8080/"
        },
        "id": "zyvb2iqkX67E",
        "outputId": "339c9d92-914d-447f-e833-ebec12b23983"
      },
      "execution_count": 20,
      "outputs": [
        {
          "output_type": "stream",
          "name": "stdout",
          "text": [
            "Both condition is True\n"
          ]
        }
      ]
    },
    {
      "cell_type": "markdown",
      "source": [
        "Nested If"
      ],
      "metadata": {
        "id": "YYn-JfK9X8hZ"
      }
    },
    {
      "cell_type": "code",
      "source": [
        "x = 41\n",
        "if x>11:\n",
        "  print(\"x is above 11\")\n",
        "  if x>30:\n",
        "    print(\"and also above 30\")\n",
        "  if x>40:\n",
        "    print(\"and also above 40\")\n",
        "    if x>50:\n",
        "      print(\"and also above 50\")\n",
        "    else:\n",
        "      print(\"but not above 50\")"
      ],
      "metadata": {
        "colab": {
          "base_uri": "https://localhost:8080/"
        },
        "id": "I58oGQwqX9yb",
        "outputId": "1722a36e-1a72-4a20-c7f7-152eef7e5600"
      },
      "execution_count": 22,
      "outputs": [
        {
          "output_type": "stream",
          "name": "stdout",
          "text": [
            "x is above 11\n",
            "and also above 30\n",
            "and also above 40\n",
            "but not above 50\n"
          ]
        }
      ]
    },
    {
      "cell_type": "markdown",
      "source": [
        "Loop Statement"
      ],
      "metadata": {
        "id": "xEof1J7TaoHu"
      }
    },
    {
      "cell_type": "markdown",
      "source": [
        "For Loop"
      ],
      "metadata": {
        "id": "GAw_ILqjasOm"
      }
    },
    {
      "cell_type": "code",
      "source": [
        "week = [\"Sunday, Monday, Tuesday, Wednesday, Thursday, Friday, Saturday\"]\n",
        "\n",
        "for x in week:\n",
        "  print(x)"
      ],
      "metadata": {
        "colab": {
          "base_uri": "https://localhost:8080/"
        },
        "id": "YlORk9ypaumL",
        "outputId": "9c85ec12-7bd4-421d-b8e8-7709aa50192a"
      },
      "execution_count": 23,
      "outputs": [
        {
          "output_type": "stream",
          "name": "stdout",
          "text": [
            "Sunday, Monday, Tuesday, Wednesday, Thursday, Friday, Saturday\n"
          ]
        }
      ]
    },
    {
      "cell_type": "markdown",
      "source": [
        "The break statement"
      ],
      "metadata": {
        "id": "NgQmSoj8bUtE"
      }
    },
    {
      "cell_type": "code",
      "source": [
        "#to display Sunday to Thursday using For loop\n",
        "for x in week:\n",
        "  print(x)\n",
        "  if x==\"Thursday\":\n",
        "    break"
      ],
      "metadata": {
        "colab": {
          "base_uri": "https://localhost:8080/"
        },
        "id": "EJY0Qgb5bG8t",
        "outputId": "2071331d-6bb6-4f47-e9ce-5eedd5d9232c"
      },
      "execution_count": 24,
      "outputs": [
        {
          "output_type": "stream",
          "name": "stdout",
          "text": [
            "Sunday, Monday, Tuesday, Wednesday, Thursday, Friday, Saturday\n"
          ]
        }
      ]
    },
    {
      "cell_type": "code",
      "source": [
        "#to display Sunday to Thursday using break loop\n",
        "for x in week:\n",
        "  if x==\"Thursday\":\n",
        "    break\n",
        "print(x)"
      ],
      "metadata": {
        "colab": {
          "base_uri": "https://localhost:8080/"
        },
        "id": "71gSIdaDcqul",
        "outputId": "479d2b54-376c-415a-b6cb-315a66cb5238"
      },
      "execution_count": 25,
      "outputs": [
        {
          "output_type": "stream",
          "name": "stdout",
          "text": [
            "Sunday, Monday, Tuesday, Wednesday, Thursday, Friday, Saturday\n"
          ]
        }
      ]
    },
    {
      "cell_type": "markdown",
      "source": [
        "While statement"
      ],
      "metadata": {
        "id": "oxLuBIZRdDBz"
      }
    },
    {
      "cell_type": "code",
      "source": [
        "i = 3\n",
        "while i<6:\n",
        "  print(i)\n",
        "  i+=3"
      ],
      "metadata": {
        "id": "oHMPsY6edF7L",
        "colab": {
          "base_uri": "https://localhost:8080/"
        },
        "outputId": "110e3d8a-1e97-4036-b29c-13b43b1882f3"
      },
      "execution_count": 26,
      "outputs": [
        {
          "output_type": "stream",
          "name": "stdout",
          "text": [
            "3\n"
          ]
        }
      ]
    },
    {
      "cell_type": "code",
      "source": [
        ""
      ],
      "metadata": {
        "id": "W7wm_ru08LXB"
      },
      "execution_count": 26,
      "outputs": []
    },
    {
      "cell_type": "markdown",
      "source": [
        "Application 3 - Create a python program that display 3"
      ],
      "metadata": {
        "id": "ku27plucdY5q"
      }
    },
    {
      "cell_type": "code",
      "source": [
        "i = 3\n",
        "while i<5:\n",
        "  if i==4:\n",
        "    break\n",
        "  i+=3\n",
        "print(i)"
      ],
      "metadata": {
        "id": "Y80KiOjtdYgL",
        "colab": {
          "base_uri": "https://localhost:8080/"
        },
        "outputId": "a9ce872c-f7e9-4203-fc61-f385944be664"
      },
      "execution_count": 27,
      "outputs": [
        {
          "output_type": "stream",
          "name": "stdout",
          "text": [
            "6\n"
          ]
        }
      ]
    }
  ]
}